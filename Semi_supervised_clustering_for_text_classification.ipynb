{
  "cells": [
    {
      "cell_type": "code",
      "execution_count": null,
      "metadata": {
        "id": "LgzWkZzIIUL9"
      },
      "outputs": [],
      "source": [
        "# imports\n",
        "import pandas as pd\n",
        "import numpy as np\n",
        "import sys\n",
        "from sklearn.cluster import KMeans\n",
        "from sklearn.feature_extraction.text import TfidfVectorizer\n",
        "from sklearn.feature_extraction.text import HashingVectorizer\n"
      ]
    },
    {
      "cell_type": "code",
      "execution_count": null,
      "metadata": {
        "id": "Xlz7LbGGCbKF"
      },
      "outputs": [],
      "source": [
        "# labeled data\n",
        "Dl=pd.read_csv('labeled_data.csv')\n",
        "# shuffle data\n",
        "Dl=Dl.sample(frac=1)\n",
        "Dl"
      ]
    },
    {
      "cell_type": "code",
      "execution_count": null,
      "metadata": {
        "id": "xyTdoWqNDRx8"
      },
      "outputs": [],
      "source": [
        "# unlabeled data\n",
        "Du=pd.read_csv(\"unlabeled_data.csv\")\n",
        "# shuffle data\n",
        "Du=Du.sample(frac=1)\n",
        "Du"
      ]
    },
    {
      "cell_type": "code",
      "execution_count": null,
      "metadata": {
        "id": "l34HyLEXc3yH"
      },
      "outputs": [],
      "source": [
        "# merge the data to train the vectorizer\n",
        "all=pd.merge(Dl,Du,how='outer',on=['ad'])\n",
        "# tfidf vectorizer\n",
        "vectorizer = TfidfVectorizer()\n",
        "vectorizer.fit(all['ad'])\n"
      ]
    },
    {
      "cell_type": "code",
      "execution_count": null,
      "metadata": {
        "id": "DnHejxi8xevE"
      },
      "outputs": [],
      "source": [
        "def RKM_SSL(data_vectorizer,Dl,Du,final_clusters_data,num_classes,th=10):\n",
        "      '''\n",
        "          Recursive K-Means for Semi-Supervised Learning\n",
        "          params :\n",
        "              data_vectoriwer : a trained vectorizer\n",
        "              Dl: labeled data\n",
        "              Du: unlabeled data\n",
        "              final_clusters_data: the data structure grouping the data labeled using the clustering\n",
        "              num_classes: the number of clusters\n",
        "              th : the proportion of the minimum class with respect to the maximum class in a partition\n",
        "          returns :\n",
        "              final_clusters: the data structure grouping the data labeled with the clustering final_clusters['labels'] contain labels ,\n",
        "      '''\n",
        "\n",
        "      #the data structure regrouping labeled data and data to label using clustering\n",
        "      final_clusters=final_clusters_data\n",
        "      # the partition is divisible ?\n",
        "      branchement=False\n",
        "      Dt=Dl\n",
        "      Dt=Dt.append(Du)\n",
        "\n",
        "      #initialization\n",
        "      k=num_classes\n",
        "      # randomly chosen 2 samples (one from each unique class)\n",
        "      random_sample=Dl[Dl['label']==1.0].sample(1).append(Dl[Dl['label']==0.0].sample(1))\n",
        "      # text seeds\n",
        "      initial_seeds=random_sample['ad']\n",
        "      seed_labels=random_sample['label']\n",
        "      # vectorizer\n",
        "      vectorizer = data_vectorizer\n",
        "      # feature extraction\n",
        "      features=vectorizer.transform(Dt['ad']).toarray()\n",
        "      # vectorized_seeds\n",
        "      initial_seeds=vectorizer.transform(initial_seeds).toarray()\n",
        "      #Initial K-means clustering\n",
        "      # Apply K-means on DT with IntialSeeds as initial cluster centroids to get K Partition\n",
        "      kmeans = KMeans(n_clusters=2, random_state=0,init=initial_seeds,n_init=1).fit(features)\n",
        "      Dt['kmeans.labes']=kmeans.labels_\n",
        "\n",
        "      #Recursive K-means clustering\n",
        "      for i in range(k):\n",
        "\n",
        "          branchement=False\n",
        "          # select one partition at a time to work on\n",
        "          partition=Dt.loc[Dt['kmeans.labes']==i]\n",
        "          # unique labels per partition\n",
        "          NCP=partition['label'].nunique()\n",
        "          # number of samples in each class\n",
        "          LSP=[]\n",
        "          LSP.append(partition[partition['label']==0].shape[0])\n",
        "          LSP.append(partition[partition['label']==1].shape[0])\n",
        "\n",
        "          # the majority class\n",
        "          Class_label=np.argmax(LSP)\n",
        "\n",
        "          # check if the partition has more the one class\n",
        "\n",
        "          if NCP >1:\n",
        "\n",
        "            other_class= partition[partition['kmeans.labes']==np.argmin(LSP)]\n",
        "\n",
        "            relative_percentage=(LSP[np.argmin(LSP)]/LSP[Class_label])*100\n",
        "            if(relative_percentage==100):\n",
        "              if(LSP[np.argmin(LSP)]==LSP[Class_label]==1):\n",
        "                  relative_percentage=th\n",
        "\n",
        "            if relative_percentage >th :\n",
        "\n",
        "              labeled=partition[partition['label']>=0].drop(['kmeans.labes'], axis = 1)\n",
        "              unlabeled=partition[partition['label'].isna()].drop(['kmeans.labes','label'], axis = 1)\n",
        "              # the partition is divisble\n",
        "              branchement=True\n",
        "              # get the final cluster\n",
        "              final_clusters=RKM_SSL(vectorizer,labeled,unlabeled,final_clusters,num_classes=NCP)\n",
        "\n",
        "\n",
        "\n",
        "\n",
        "          # update final clusters with the partition\n",
        "          if(branchement==False):\n",
        "                partition=partition.drop(['kmeans.labes'], axis = 1)\n",
        "                final_clusters=final_clusters.append(partition)\n",
        "\n",
        "\n",
        "\n",
        "          #Labeling unlabeled samples\n",
        "          final_clusters.loc[final_clusters['label'].isna(),'labels_cluster']=1 # label_cluster=1 indicates that the ad is labeled using clustering\n",
        "          final_clusters.loc[final_clusters['label'].isna(),'label'] =Class_label # label refers to the label assigned to the ad\n",
        "\n",
        "\n",
        "\n",
        "      return final_clusters\n",
        "\n"
      ]
    },
    {
      "cell_type": "code",
      "execution_count": null,
      "metadata": {
        "id": "bj5wx_MT_3GT"
      },
      "outputs": [],
      "source": [
        "sys.setrecursionlimit(10000)\n"
      ]
    },
    {
      "cell_type": "code",
      "execution_count": null,
      "metadata": {
        "id": "L2WLN1Kx_gxd"
      },
      "outputs": [],
      "source": [
        "# pick a sample of the unlabeled data\n",
        "Du_ = Du.iloc[:1200]\n",
        "# create the data structure regrouping labeled data and data to label using clustering\n",
        "column_names = [\"ad\",\"label\",\"labels_cluster\"]\n",
        "final_clusters = pd.DataFrame(columns =column_names)\n",
        "results=RKM_SSL(vectorizer,Dl,Du_,final_clusters,num_classes=2,th=10)\n"
      ]
    },
    {
      "cell_type": "code",
      "execution_count": null,
      "metadata": {
        "id": "BDOibVf0Hh6z"
      },
      "outputs": [],
      "source": [
        "results.to_csv(\"results_clustering.csv\")"
      ]
    }
  ],
  "metadata": {
    "colab": {
      "provenance": []
    },
    "kernelspec": {
      "display_name": "Python 3",
      "name": "python3"
    },
    "language_info": {
      "name": "python"
    }
  },
  "nbformat": 4,
  "nbformat_minor": 0
}